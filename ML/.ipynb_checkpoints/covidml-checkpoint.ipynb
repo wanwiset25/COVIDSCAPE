{
 "cells": [
  {
   "cell_type": "code",
   "execution_count": 1,
   "metadata": {},
   "outputs": [],
   "source": [
    "from pyspark import SQLContext, SparkConf, SparkContext\n",
    "from pyspark.ml.linalg import Vectors\n",
    "from pyspark.ml.feature import VectorAssembler\n",
    "from pyspark.ml.regression import LinearRegression\n",
    "from pyspark.sql import Row\n",
    "from pyspark.sql.functions import col\n",
    "from pyspark.sql.functions import monotonically_increasing_id, row_number\n",
    "from pyspark.sql.window import Window\n",
    "import matplotlib.pyplot as plt\n",
    "import pandas as pd\n",
    "import numpy as np\n",
    "from numpy import polyfit\n",
    "\n",
    "\n",
    "conf = SparkConf().setMaster('local').setAppName('ML_learning')\n",
    "sc = SparkContext(conf=conf)\n",
    "sqlcontext = SQLContext(sc)"
   ]
  },
  {
   "cell_type": "code",
   "execution_count": 2,
   "metadata": {},
   "outputs": [],
   "source": [
    "fname = '27-1'\n",
    "data = sqlcontext.read.csv(path=fname+'.csv', header = True, inferSchema = True)\n",
    " "
   ]
  },
  {
   "cell_type": "code",
   "execution_count": 3,
   "metadata": {},
   "outputs": [],
   "source": [
    "def manipulateData(colnum):\n",
    "    data2 = data.select(data.columns[1],data.columns[colnum+1])\n",
    "    assembler = VectorAssembler().setInputCols(['daynum',]).setOutputCol('features')\n",
    "    train01 = assembler.transform(data2)\n",
    "    train02 = train01.select('features',str(colnum))\n",
    "    train02 = train02.withColumnRenamed(str(colnum) ,'label')\n",
    "    \n",
    "    return train02"
   ]
  },
  {
   "cell_type": "code",
   "execution_count": 4,
   "metadata": {},
   "outputs": [],
   "source": [
    "n = len(data.columns)"
   ]
  },
  {
   "cell_type": "code",
   "execution_count": 5,
   "metadata": {},
   "outputs": [],
   "source": [
    "traindatapercity = [0]*(n-2)\n",
    "for i in range(len(traindatapercity)):\n",
    "    traindatapercity[i] = manipulateData(i+1)"
   ]
  },
  {
   "cell_type": "code",
   "execution_count": 6,
   "metadata": {},
   "outputs": [
    {
     "name": "stdout",
     "output_type": "stream",
     "text": [
      "+--------+-----+\n",
      "|features|label|\n",
      "+--------+-----+\n",
      "|   [1.0]|  172|\n",
      "|   [2.0]|  206|\n",
      "|   [3.0]|  177|\n",
      "|   [4.0]|  191|\n",
      "|   [5.0]|  192|\n",
      "|   [6.0]|  177|\n",
      "|   [7.0]|  182|\n",
      "+--------+-----+\n",
      "\n"
     ]
    }
   ],
   "source": [
    "traindatapercity[0].show()"
   ]
  },
  {
   "cell_type": "code",
   "execution_count": 7,
   "metadata": {},
   "outputs": [],
   "source": [
    "lr = [0]*(n-2)\n",
    "lrmodelpercity = [0]*(n-2)\n",
    "for i in range(n-2): \n",
    "    lr = LinearRegression()\n",
    "    lrmodelpercity[i] = lr.fit(traindatapercity[i])\n"
   ]
  },
  {
   "cell_type": "code",
   "execution_count": 12,
   "metadata": {},
   "outputs": [],
   "source": [
    "li = [i for i in range(-3,3)]\n",
    "rdd1 = sc.parallelize(li)\n",
    "row_rdd = rdd1.map(lambda x: Row(x))\n",
    "predictinput=sqlcontext.createDataFrame(row_rdd,['numbers'])"
   ]
  },
  {
   "cell_type": "code",
   "execution_count": 13,
   "metadata": {},
   "outputs": [],
   "source": [
    "#predictinput.show()"
   ]
  },
  {
   "cell_type": "code",
   "execution_count": 14,
   "metadata": {
    "scrolled": true
   },
   "outputs": [
    {
     "name": "stdout",
     "output_type": "stream",
     "text": [
      "+--------+\n",
      "|features|\n",
      "+--------+\n",
      "|  [-1.0]|\n",
      "+--------+\n",
      "\n"
     ]
    }
   ],
   "source": [
    "assembler = VectorAssembler().setInputCols(['numbers',]).setOutputCol('features')\n",
    "predictinput2 = assembler.transform(predictinput)\n",
    "#predictinput2.show(5)\n",
    "predictinput3 = predictinput2.select('features')\n",
    "predictinput3.show(5)"
   ]
  },
  {
   "cell_type": "code",
   "execution_count": 11,
   "metadata": {},
   "outputs": [],
   "source": [
    "\n",
    "for i in range(0,4):\n",
    "    predtable = predictinput3\n",
    "    x = 100\n",
    "    if i == 3:\n",
    "        x = n-2-300\n",
    "    for j in range(0,x):\n",
    "        predict = lrmodelpercity[i*100+j].transform(predictinput3)\n",
    "        predict2 = predict.select(col('prediction').alias(str(i*100+j+1)))\n",
    "        predict2=predict2.withColumn('row_index', row_number().over(Window.orderBy(monotonically_increasing_id())))\n",
    "        predtable=predtable.withColumn('row_index', row_number().over(Window.orderBy(monotonically_increasing_id())))\n",
    "        predtable = predtable.join(predict2, on=[\"row_index\"]).drop(\"row_index\")\n",
    "    temppd = predtable.toPandas()\n",
    "    name = fname+'-'+'predictions'+str(i+1)+'.csv'\n",
    "    temppd.to_csv(name)"
   ]
  },
  {
   "cell_type": "code",
   "execution_count": null,
   "metadata": {},
   "outputs": [],
   "source": []
  },
  {
   "cell_type": "code",
   "execution_count": null,
   "metadata": {},
   "outputs": [],
   "source": []
  }
 ],
 "metadata": {
  "kernelspec": {
   "display_name": "Python 3",
   "language": "python",
   "name": "python3"
  },
  "language_info": {
   "codemirror_mode": {
    "name": "ipython",
    "version": 3
   },
   "file_extension": ".py",
   "mimetype": "text/x-python",
   "name": "python",
   "nbconvert_exporter": "python",
   "pygments_lexer": "ipython3",
   "version": "3.8.3"
  }
 },
 "nbformat": 4,
 "nbformat_minor": 4
}
